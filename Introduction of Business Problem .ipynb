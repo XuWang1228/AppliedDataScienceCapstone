{
 "cells": [
  {
   "cell_type": "markdown",
   "metadata": {},
   "source": [
    "Introduction/Business Problem "
   ]
  },
  {
   "cell_type": "markdown",
   "metadata": {},
   "source": [
    "Along with the frequently and strong changing on stock markt, it becomes even more interesting to not only analysis and predict the performance of one stock, but also keep watching on stocks for certain area, or even tracking the activities of certain area in different countries. "
   ]
  },
  {
   "cell_type": "markdown",
   "metadata": {},
   "source": [
    "Data"
   ]
  },
  {
   "cell_type": "markdown",
   "metadata": {},
   "source": [
    "Therefore in this capstone, I would like to extract the stock information from Yahoo finance, get 20 stocks based on the classification of most actives, gainers and losers. For each stock get its historical data, holders' shares and values and location of the company. Try to analysis the relationship between price and different resource data, and predict the performance of the stock in next 3 months. Finally use combination of Foursquare location data to visualize the location of the company of most 10 strongly increased stocks."
   ]
  },
  {
   "cell_type": "code",
   "execution_count": null,
   "metadata": {},
   "outputs": [],
   "source": []
  }
 ],
 "metadata": {
  "kernelspec": {
   "display_name": "Python",
   "language": "python",
   "name": "conda-env-python-py"
  },
  "language_info": {
   "codemirror_mode": {
    "name": "ipython",
    "version": 3
   },
   "file_extension": ".py",
   "mimetype": "text/x-python",
   "name": "python",
   "nbconvert_exporter": "python",
   "pygments_lexer": "ipython3",
   "version": "3.6.12"
  }
 },
 "nbformat": 4,
 "nbformat_minor": 4
}
